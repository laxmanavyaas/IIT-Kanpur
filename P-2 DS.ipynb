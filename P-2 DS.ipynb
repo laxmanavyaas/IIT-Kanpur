{
 "cells": [
  {
   "cell_type": "code",
   "execution_count": null,
   "id": "0906621e",
   "metadata": {},
   "outputs": [],
   "source": [
    "import pandas as pd"
   ]
  },
  {
   "cell_type": "code",
   "execution_count": null,
   "id": "aa662d55",
   "metadata": {},
   "outputs": [],
   "source": [
    "df = pd.read_csv(\"https://raw.githubusercontent.com/chaitanyabaranwal/parkinsonAnalysis/master/parkinsons.csv\")\n",
    "df"
   ]
  },
  {
   "cell_type": "code",
   "execution_count": null,
   "id": "645c8e16",
   "metadata": {},
   "outputs": [],
   "source": [
    "features = df.loc[: ,df.columns!='status'].values[: ,1:]\n",
    "features"
   ]
  },
  {
   "cell_type": "code",
   "execution_count": null,
   "id": "a1f42f3e",
   "metadata": {},
   "outputs": [],
   "source": [
    "labels = df.loc[: , 'status'].values\n",
    "labels"
   ]
  },
  {
   "cell_type": "code",
   "execution_count": null,
   "id": "ec30e79a",
   "metadata": {},
   "outputs": [],
   "source": [
    "labels[labels ==1].shape[0]"
   ]
  },
  {
   "cell_type": "code",
   "execution_count": null,
   "id": "62860924",
   "metadata": {},
   "outputs": [],
   "source": [
    "labels[labels ==0].shape[0]"
   ]
  },
  {
   "cell_type": "code",
   "execution_count": null,
   "id": "cce19ca7",
   "metadata": {},
   "outputs": [],
   "source": [
    "from sklearn.preprocessing import MinMaxScaler"
   ]
  },
  {
   "cell_type": "code",
   "execution_count": null,
   "id": "f2a78c32",
   "metadata": {},
   "outputs": [],
   "source": [
    "scaler = MinMaxScaler((-1,1))\n",
    "x=scaler.fit_transform(features)\n",
    "y=labels"
   ]
  },
  {
   "cell_type": "code",
   "execution_count": null,
   "id": "9f5163f4",
   "metadata": {},
   "outputs": [],
   "source": [
    "x"
   ]
  },
  {
   "cell_type": "code",
   "execution_count": null,
   "id": "25de952b",
   "metadata": {},
   "outputs": [],
   "source": [
    "y"
   ]
  },
  {
   "cell_type": "code",
   "execution_count": null,
   "id": "f90efd53",
   "metadata": {},
   "outputs": [],
   "source": [
    "from sklearn.model_selection import train_test_split\n",
    "x_train,x_test, y_train, y_test = train_test_split(x,y, test_size=0.33,random_state=42)"
   ]
  },
  {
   "cell_type": "code",
   "execution_count": null,
   "id": "4559284e",
   "metadata": {},
   "outputs": [],
   "source": [
    "x_train"
   ]
  },
  {
   "cell_type": "code",
   "execution_count": null,
   "id": "724ab3d2",
   "metadata": {},
   "outputs": [],
   "source": [
    "#Train the model\n",
    "from xgboost import XGBClassifier\n",
    "xgb=XGBClassifier()\n",
    "xgb.fit(x_train, y_train)\n",
    "y_pred = xgb.predict(x_test)"
   ]
  },
  {
   "cell_type": "code",
   "execution_count": null,
   "id": "32610b2a",
   "metadata": {},
   "outputs": [],
   "source": [
    " from sklearn.metrics import accuracy_score\n",
    " round(accuracy_score(y_test,y_pred),4)*100"
   ]
  },
  {
   "cell_type": "code",
   "execution_count": null,
   "id": "07e5b963",
   "metadata": {},
   "outputs": [],
   "source": [
    "print(type(X_test))"
   ]
  }
 ],
 "metadata": {
  "kernelspec": {
   "display_name": "Python 3",
   "language": "python",
   "name": "python3"
  },
  "language_info": {
   "codemirror_mode": {
    "name": "ipython",
    "version": 3
   },
   "file_extension": ".py",
   "mimetype": "text/x-python",
   "name": "python",
   "nbconvert_exporter": "python",
   "pygments_lexer": "ipython3",
   "version": "3.8.8"
  }
 },
 "nbformat": 4,
 "nbformat_minor": 5
}
