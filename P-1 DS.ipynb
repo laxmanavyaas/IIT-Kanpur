{
 "cells": [
  {
   "cell_type": "code",
   "execution_count": 1,
   "id": "c2e07358",
   "metadata": {},
   "outputs": [],
   "source": [
    "import pandas as pd \n",
    "import numpy as np"
   ]
  },
  {
   "cell_type": "code",
   "execution_count": 2,
   "id": "858a83ca",
   "metadata": {
    "scrolled": true
   },
   "outputs": [
    {
     "data": {
      "text/html": [
       "<div>\n",
       "<style scoped>\n",
       "    .dataframe tbody tr th:only-of-type {\n",
       "        vertical-align: middle;\n",
       "    }\n",
       "\n",
       "    .dataframe tbody tr th {\n",
       "        vertical-align: top;\n",
       "    }\n",
       "\n",
       "    .dataframe thead th {\n",
       "        text-align: right;\n",
       "    }\n",
       "</style>\n",
       "<table border=\"1\" class=\"dataframe\">\n",
       "  <thead>\n",
       "    <tr style=\"text-align: right;\">\n",
       "      <th></th>\n",
       "      <th>7</th>\n",
       "      <th>8</th>\n",
       "      <th>9</th>\n",
       "      <th>10</th>\n",
       "      <th>11</th>\n",
       "      <th>12</th>\n",
       "      <th>13</th>\n",
       "    </tr>\n",
       "  </thead>\n",
       "  <tbody>\n",
       "    <tr>\n",
       "      <th>1</th>\n",
       "      <td>-0.448970</td>\n",
       "      <td>0.130522</td>\n",
       "      <td>0.499194</td>\n",
       "      <td>-0.380503</td>\n",
       "      <td>0.241641</td>\n",
       "      <td>-0.187671</td>\n",
       "      <td>-0.827072</td>\n",
       "    </tr>\n",
       "    <tr>\n",
       "      <th>2</th>\n",
       "      <td>0.427801</td>\n",
       "      <td>-0.065609</td>\n",
       "      <td>-0.522212</td>\n",
       "      <td>0.207220</td>\n",
       "      <td>0.899982</td>\n",
       "      <td>-1.671442</td>\n",
       "      <td>1.241008</td>\n",
       "    </tr>\n",
       "    <tr>\n",
       "      <th>3</th>\n",
       "      <td>0.404729</td>\n",
       "      <td>-0.291002</td>\n",
       "      <td>-0.433843</td>\n",
       "      <td>0.733121</td>\n",
       "      <td>0.330615</td>\n",
       "      <td>-0.194171</td>\n",
       "      <td>-0.428751</td>\n",
       "    </tr>\n",
       "    <tr>\n",
       "      <th>4</th>\n",
       "      <td>-1.163356</td>\n",
       "      <td>-0.719902</td>\n",
       "      <td>0.237301</td>\n",
       "      <td>-0.065298</td>\n",
       "      <td>-0.925302</td>\n",
       "      <td>0.128030</td>\n",
       "      <td>0.117360</td>\n",
       "    </tr>\n",
       "    <tr>\n",
       "      <th>5</th>\n",
       "      <td>-0.514628</td>\n",
       "      <td>-1.602406</td>\n",
       "      <td>-0.252379</td>\n",
       "      <td>-0.728759</td>\n",
       "      <td>-0.291126</td>\n",
       "      <td>0.995656</td>\n",
       "      <td>0.588407</td>\n",
       "    </tr>\n",
       "  </tbody>\n",
       "</table>\n",
       "</div>"
      ],
      "text/plain": [
       "          7         8         9        10        11        12        13\n",
       "1 -0.448970  0.130522  0.499194 -0.380503  0.241641 -0.187671 -0.827072\n",
       "2  0.427801 -0.065609 -0.522212  0.207220  0.899982 -1.671442  1.241008\n",
       "3  0.404729 -0.291002 -0.433843  0.733121  0.330615 -0.194171 -0.428751\n",
       "4 -1.163356 -0.719902  0.237301 -0.065298 -0.925302  0.128030  0.117360\n",
       "5 -0.514628 -1.602406 -0.252379 -0.728759 -0.291126  0.995656  0.588407"
      ]
     },
     "execution_count": 2,
     "metadata": {},
     "output_type": "execute_result"
    }
   ],
   "source": [
    "from numpy.random import randn\n",
    "\n",
    "\n",
    "df = pd.DataFrame(randn(5,7),index='1 2 3 4 5'.split(),columns='7 8 9 10 11 12 13'.split())\n",
    "df\n"
   ]
  },
  {
   "cell_type": "code",
   "execution_count": 3,
   "id": "20a7b25f",
   "metadata": {},
   "outputs": [
    {
     "data": {
      "text/plain": [
       "1   -0.448970\n",
       "2    0.427801\n",
       "3    0.404729\n",
       "4   -1.163356\n",
       "5   -0.514628\n",
       "Name: 7, dtype: float64"
      ]
     },
     "execution_count": 3,
     "metadata": {},
     "output_type": "execute_result"
    }
   ],
   "source": [
    "df['7']"
   ]
  },
  {
   "cell_type": "code",
   "execution_count": 4,
   "id": "9e698072",
   "metadata": {},
   "outputs": [
    {
     "data": {
      "text/html": [
       "<div>\n",
       "<style scoped>\n",
       "    .dataframe tbody tr th:only-of-type {\n",
       "        vertical-align: middle;\n",
       "    }\n",
       "\n",
       "    .dataframe tbody tr th {\n",
       "        vertical-align: top;\n",
       "    }\n",
       "\n",
       "    .dataframe thead th {\n",
       "        text-align: right;\n",
       "    }\n",
       "</style>\n",
       "<table border=\"1\" class=\"dataframe\">\n",
       "  <thead>\n",
       "    <tr style=\"text-align: right;\">\n",
       "      <th></th>\n",
       "      <th>8</th>\n",
       "      <th>12</th>\n",
       "    </tr>\n",
       "  </thead>\n",
       "  <tbody>\n",
       "    <tr>\n",
       "      <th>1</th>\n",
       "      <td>0.130522</td>\n",
       "      <td>-0.187671</td>\n",
       "    </tr>\n",
       "    <tr>\n",
       "      <th>2</th>\n",
       "      <td>-0.065609</td>\n",
       "      <td>-1.671442</td>\n",
       "    </tr>\n",
       "    <tr>\n",
       "      <th>3</th>\n",
       "      <td>-0.291002</td>\n",
       "      <td>-0.194171</td>\n",
       "    </tr>\n",
       "    <tr>\n",
       "      <th>4</th>\n",
       "      <td>-0.719902</td>\n",
       "      <td>0.128030</td>\n",
       "    </tr>\n",
       "    <tr>\n",
       "      <th>5</th>\n",
       "      <td>-1.602406</td>\n",
       "      <td>0.995656</td>\n",
       "    </tr>\n",
       "  </tbody>\n",
       "</table>\n",
       "</div>"
      ],
      "text/plain": [
       "          8        12\n",
       "1  0.130522 -0.187671\n",
       "2 -0.065609 -1.671442\n",
       "3 -0.291002 -0.194171\n",
       "4 -0.719902  0.128030\n",
       "5 -1.602406  0.995656"
      ]
     },
     "execution_count": 4,
     "metadata": {},
     "output_type": "execute_result"
    }
   ],
   "source": [
    "df[['8','12']]"
   ]
  },
  {
   "cell_type": "code",
   "execution_count": 5,
   "id": "78a224e3",
   "metadata": {},
   "outputs": [],
   "source": [
    "df['15'] = df['7'] + df['8']"
   ]
  },
  {
   "cell_type": "code",
   "execution_count": 6,
   "id": "82b3297a",
   "metadata": {},
   "outputs": [
    {
     "data": {
      "text/html": [
       "<div>\n",
       "<style scoped>\n",
       "    .dataframe tbody tr th:only-of-type {\n",
       "        vertical-align: middle;\n",
       "    }\n",
       "\n",
       "    .dataframe tbody tr th {\n",
       "        vertical-align: top;\n",
       "    }\n",
       "\n",
       "    .dataframe thead th {\n",
       "        text-align: right;\n",
       "    }\n",
       "</style>\n",
       "<table border=\"1\" class=\"dataframe\">\n",
       "  <thead>\n",
       "    <tr style=\"text-align: right;\">\n",
       "      <th></th>\n",
       "      <th>7</th>\n",
       "      <th>8</th>\n",
       "      <th>9</th>\n",
       "      <th>10</th>\n",
       "      <th>11</th>\n",
       "      <th>12</th>\n",
       "      <th>13</th>\n",
       "      <th>15</th>\n",
       "    </tr>\n",
       "  </thead>\n",
       "  <tbody>\n",
       "    <tr>\n",
       "      <th>1</th>\n",
       "      <td>-0.448970</td>\n",
       "      <td>0.130522</td>\n",
       "      <td>0.499194</td>\n",
       "      <td>-0.380503</td>\n",
       "      <td>0.241641</td>\n",
       "      <td>-0.187671</td>\n",
       "      <td>-0.827072</td>\n",
       "      <td>-0.318448</td>\n",
       "    </tr>\n",
       "    <tr>\n",
       "      <th>2</th>\n",
       "      <td>0.427801</td>\n",
       "      <td>-0.065609</td>\n",
       "      <td>-0.522212</td>\n",
       "      <td>0.207220</td>\n",
       "      <td>0.899982</td>\n",
       "      <td>-1.671442</td>\n",
       "      <td>1.241008</td>\n",
       "      <td>0.362191</td>\n",
       "    </tr>\n",
       "    <tr>\n",
       "      <th>3</th>\n",
       "      <td>0.404729</td>\n",
       "      <td>-0.291002</td>\n",
       "      <td>-0.433843</td>\n",
       "      <td>0.733121</td>\n",
       "      <td>0.330615</td>\n",
       "      <td>-0.194171</td>\n",
       "      <td>-0.428751</td>\n",
       "      <td>0.113727</td>\n",
       "    </tr>\n",
       "    <tr>\n",
       "      <th>4</th>\n",
       "      <td>-1.163356</td>\n",
       "      <td>-0.719902</td>\n",
       "      <td>0.237301</td>\n",
       "      <td>-0.065298</td>\n",
       "      <td>-0.925302</td>\n",
       "      <td>0.128030</td>\n",
       "      <td>0.117360</td>\n",
       "      <td>-1.883258</td>\n",
       "    </tr>\n",
       "    <tr>\n",
       "      <th>5</th>\n",
       "      <td>-0.514628</td>\n",
       "      <td>-1.602406</td>\n",
       "      <td>-0.252379</td>\n",
       "      <td>-0.728759</td>\n",
       "      <td>-0.291126</td>\n",
       "      <td>0.995656</td>\n",
       "      <td>0.588407</td>\n",
       "      <td>-2.117034</td>\n",
       "    </tr>\n",
       "  </tbody>\n",
       "</table>\n",
       "</div>"
      ],
      "text/plain": [
       "          7         8         9        10        11        12        13  \\\n",
       "1 -0.448970  0.130522  0.499194 -0.380503  0.241641 -0.187671 -0.827072   \n",
       "2  0.427801 -0.065609 -0.522212  0.207220  0.899982 -1.671442  1.241008   \n",
       "3  0.404729 -0.291002 -0.433843  0.733121  0.330615 -0.194171 -0.428751   \n",
       "4 -1.163356 -0.719902  0.237301 -0.065298 -0.925302  0.128030  0.117360   \n",
       "5 -0.514628 -1.602406 -0.252379 -0.728759 -0.291126  0.995656  0.588407   \n",
       "\n",
       "         15  \n",
       "1 -0.318448  \n",
       "2  0.362191  \n",
       "3  0.113727  \n",
       "4 -1.883258  \n",
       "5 -2.117034  "
      ]
     },
     "execution_count": 6,
     "metadata": {},
     "output_type": "execute_result"
    }
   ],
   "source": [
    "df"
   ]
  },
  {
   "cell_type": "code",
   "execution_count": 7,
   "id": "af2f6fb7",
   "metadata": {},
   "outputs": [
    {
     "data": {
      "text/html": [
       "<div>\n",
       "<style scoped>\n",
       "    .dataframe tbody tr th:only-of-type {\n",
       "        vertical-align: middle;\n",
       "    }\n",
       "\n",
       "    .dataframe tbody tr th {\n",
       "        vertical-align: top;\n",
       "    }\n",
       "\n",
       "    .dataframe thead th {\n",
       "        text-align: right;\n",
       "    }\n",
       "</style>\n",
       "<table border=\"1\" class=\"dataframe\">\n",
       "  <thead>\n",
       "    <tr style=\"text-align: right;\">\n",
       "      <th></th>\n",
       "      <th>7</th>\n",
       "      <th>8</th>\n",
       "      <th>9</th>\n",
       "      <th>10</th>\n",
       "      <th>11</th>\n",
       "      <th>12</th>\n",
       "      <th>13</th>\n",
       "    </tr>\n",
       "  </thead>\n",
       "  <tbody>\n",
       "    <tr>\n",
       "      <th>1</th>\n",
       "      <td>-0.448970</td>\n",
       "      <td>0.130522</td>\n",
       "      <td>0.499194</td>\n",
       "      <td>-0.380503</td>\n",
       "      <td>0.241641</td>\n",
       "      <td>-0.187671</td>\n",
       "      <td>-0.827072</td>\n",
       "    </tr>\n",
       "    <tr>\n",
       "      <th>2</th>\n",
       "      <td>0.427801</td>\n",
       "      <td>-0.065609</td>\n",
       "      <td>-0.522212</td>\n",
       "      <td>0.207220</td>\n",
       "      <td>0.899982</td>\n",
       "      <td>-1.671442</td>\n",
       "      <td>1.241008</td>\n",
       "    </tr>\n",
       "    <tr>\n",
       "      <th>3</th>\n",
       "      <td>0.404729</td>\n",
       "      <td>-0.291002</td>\n",
       "      <td>-0.433843</td>\n",
       "      <td>0.733121</td>\n",
       "      <td>0.330615</td>\n",
       "      <td>-0.194171</td>\n",
       "      <td>-0.428751</td>\n",
       "    </tr>\n",
       "    <tr>\n",
       "      <th>4</th>\n",
       "      <td>-1.163356</td>\n",
       "      <td>-0.719902</td>\n",
       "      <td>0.237301</td>\n",
       "      <td>-0.065298</td>\n",
       "      <td>-0.925302</td>\n",
       "      <td>0.128030</td>\n",
       "      <td>0.117360</td>\n",
       "    </tr>\n",
       "    <tr>\n",
       "      <th>5</th>\n",
       "      <td>-0.514628</td>\n",
       "      <td>-1.602406</td>\n",
       "      <td>-0.252379</td>\n",
       "      <td>-0.728759</td>\n",
       "      <td>-0.291126</td>\n",
       "      <td>0.995656</td>\n",
       "      <td>0.588407</td>\n",
       "    </tr>\n",
       "  </tbody>\n",
       "</table>\n",
       "</div>"
      ],
      "text/plain": [
       "          7         8         9        10        11        12        13\n",
       "1 -0.448970  0.130522  0.499194 -0.380503  0.241641 -0.187671 -0.827072\n",
       "2  0.427801 -0.065609 -0.522212  0.207220  0.899982 -1.671442  1.241008\n",
       "3  0.404729 -0.291002 -0.433843  0.733121  0.330615 -0.194171 -0.428751\n",
       "4 -1.163356 -0.719902  0.237301 -0.065298 -0.925302  0.128030  0.117360\n",
       "5 -0.514628 -1.602406 -0.252379 -0.728759 -0.291126  0.995656  0.588407"
      ]
     },
     "execution_count": 7,
     "metadata": {},
     "output_type": "execute_result"
    }
   ],
   "source": [
    "df.drop('15',axis=1)"
   ]
  },
  {
   "cell_type": "code",
   "execution_count": 8,
   "id": "987ab262",
   "metadata": {},
   "outputs": [],
   "source": [
    "df.drop('9',axis=1,inplace=True)"
   ]
  },
  {
   "cell_type": "code",
   "execution_count": 9,
   "id": "e89768fb",
   "metadata": {},
   "outputs": [
    {
     "data": {
      "text/html": [
       "<div>\n",
       "<style scoped>\n",
       "    .dataframe tbody tr th:only-of-type {\n",
       "        vertical-align: middle;\n",
       "    }\n",
       "\n",
       "    .dataframe tbody tr th {\n",
       "        vertical-align: top;\n",
       "    }\n",
       "\n",
       "    .dataframe thead th {\n",
       "        text-align: right;\n",
       "    }\n",
       "</style>\n",
       "<table border=\"1\" class=\"dataframe\">\n",
       "  <thead>\n",
       "    <tr style=\"text-align: right;\">\n",
       "      <th></th>\n",
       "      <th>7</th>\n",
       "      <th>8</th>\n",
       "      <th>10</th>\n",
       "      <th>11</th>\n",
       "      <th>12</th>\n",
       "      <th>13</th>\n",
       "      <th>15</th>\n",
       "    </tr>\n",
       "  </thead>\n",
       "  <tbody>\n",
       "    <tr>\n",
       "      <th>1</th>\n",
       "      <td>-0.448970</td>\n",
       "      <td>0.130522</td>\n",
       "      <td>-0.380503</td>\n",
       "      <td>0.241641</td>\n",
       "      <td>-0.187671</td>\n",
       "      <td>-0.827072</td>\n",
       "      <td>-0.318448</td>\n",
       "    </tr>\n",
       "    <tr>\n",
       "      <th>2</th>\n",
       "      <td>0.427801</td>\n",
       "      <td>-0.065609</td>\n",
       "      <td>0.207220</td>\n",
       "      <td>0.899982</td>\n",
       "      <td>-1.671442</td>\n",
       "      <td>1.241008</td>\n",
       "      <td>0.362191</td>\n",
       "    </tr>\n",
       "    <tr>\n",
       "      <th>3</th>\n",
       "      <td>0.404729</td>\n",
       "      <td>-0.291002</td>\n",
       "      <td>0.733121</td>\n",
       "      <td>0.330615</td>\n",
       "      <td>-0.194171</td>\n",
       "      <td>-0.428751</td>\n",
       "      <td>0.113727</td>\n",
       "    </tr>\n",
       "    <tr>\n",
       "      <th>4</th>\n",
       "      <td>-1.163356</td>\n",
       "      <td>-0.719902</td>\n",
       "      <td>-0.065298</td>\n",
       "      <td>-0.925302</td>\n",
       "      <td>0.128030</td>\n",
       "      <td>0.117360</td>\n",
       "      <td>-1.883258</td>\n",
       "    </tr>\n",
       "    <tr>\n",
       "      <th>5</th>\n",
       "      <td>-0.514628</td>\n",
       "      <td>-1.602406</td>\n",
       "      <td>-0.728759</td>\n",
       "      <td>-0.291126</td>\n",
       "      <td>0.995656</td>\n",
       "      <td>0.588407</td>\n",
       "      <td>-2.117034</td>\n",
       "    </tr>\n",
       "  </tbody>\n",
       "</table>\n",
       "</div>"
      ],
      "text/plain": [
       "          7         8        10        11        12        13        15\n",
       "1 -0.448970  0.130522 -0.380503  0.241641 -0.187671 -0.827072 -0.318448\n",
       "2  0.427801 -0.065609  0.207220  0.899982 -1.671442  1.241008  0.362191\n",
       "3  0.404729 -0.291002  0.733121  0.330615 -0.194171 -0.428751  0.113727\n",
       "4 -1.163356 -0.719902 -0.065298 -0.925302  0.128030  0.117360 -1.883258\n",
       "5 -0.514628 -1.602406 -0.728759 -0.291126  0.995656  0.588407 -2.117034"
      ]
     },
     "execution_count": 9,
     "metadata": {},
     "output_type": "execute_result"
    }
   ],
   "source": [
    "df"
   ]
  },
  {
   "cell_type": "code",
   "execution_count": null,
   "id": "4c2d0add",
   "metadata": {},
   "outputs": [],
   "source": [
    "import pandas as pd"
   ]
  },
  {
   "cell_type": "code",
   "execution_count": null,
   "id": "a5ad8947",
   "metadata": {},
   "outputs": [],
   "source": [
    "df = pd.read_csv('demo')\n",
    "df"
   ]
  },
  {
   "cell_type": "code",
   "execution_count": null,
   "id": "aeb11a2f",
   "metadata": {},
   "outputs": [],
   "source": [
    "df.to_csv('xyz',index=False)"
   ]
  },
  {
   "cell_type": "code",
   "execution_count": null,
   "id": "c20099d6",
   "metadata": {},
   "outputs": [],
   "source": [
    "pd.read_excel('Excel_Sample.xlsx',sheet_name='Sheet1')"
   ]
  },
  {
   "cell_type": "code",
   "execution_count": null,
   "id": "03ba86df",
   "metadata": {},
   "outputs": [],
   "source": [
    "df.to_excel('Excel_Sample.xlsx')"
   ]
  },
  {
   "cell_type": "code",
   "execution_count": null,
   "id": "cfe61723",
   "metadata": {},
   "outputs": [],
   "source": [
    "import numpy as np\n",
    "\n",
    "df = pd.Dataframe({'A':[1,2,np.nan],\n",
    "                   'B':[11,np.nan,1],\n",
    "                   'C':[33,2,31]})"
   ]
  },
  {
   "cell_type": "code",
   "execution_count": null,
   "id": "6450ef86",
   "metadata": {},
   "outputs": [],
   "source": [
    "df"
   ]
  },
  {
   "cell_type": "code",
   "execution_count": null,
   "id": "c08dd796",
   "metadata": {},
   "outputs": [],
   "source": [
    "import matplotlib.pyplot as plt\n",
    "# Histogram of grades\n",
    "plt.hist(['Grade'], bins = 14)\n",
    "plt.xlabel('Grade')\n",
    "plt.ylabel('Count')\n",
    "plt.title('Distribution of Final Grades')"
   ]
  },
  {
   "cell_type": "code",
   "execution_count": null,
   "id": "8ee6a810",
   "metadata": {},
   "outputs": [],
   "source": [
    "pip install matplotlib"
   ]
  },
  {
   "cell_type": "code",
   "execution_count": null,
   "id": "a343ef93",
   "metadata": {},
   "outputs": [],
   "source": [
    "import matplotlib.pyplot as plt"
   ]
  },
  {
   "cell_type": "code",
   "execution_count": null,
   "id": "4f86c263",
   "metadata": {},
   "outputs": [],
   "source": [
    "list - []\n",
    "tuple - ()\n",
    "dict - {}"
   ]
  },
  {
   "cell_type": "code",
   "execution_count": null,
   "id": "1d9347f9",
   "metadata": {},
   "outputs": [],
   "source": [
    "squares = [1,2,3,4,5]\n",
    "plt.plot(squares)\n",
    "plt.show"
   ]
  },
  {
   "cell_type": "code",
   "execution_count": null,
   "id": "15c42868",
   "metadata": {},
   "outputs": [],
   "source": [
    "plt.plot(squares,linewidth=5)\n",
    "plt.show()"
   ]
  },
  {
   "cell_type": "code",
   "execution_count": null,
   "id": "b99b0034",
   "metadata": {},
   "outputs": [],
   "source": [
    "plt.title(\"Square numbers\" , fontsize = 24)\n",
    "plt.xlabel(\"Values\" , fontsize = 14)\n",
    "plt.ylabel(\"Squares of that values\" , fontsize=14)\n",
    "plt.plot(squares,dash_capstyle = \"round\")\n",
    "plt.tick_params(axis= \"both\" , labelsize = 10)\n",
    "plt.show()"
   ]
  },
  {
   "cell_type": "code",
   "execution_count": null,
   "id": "3cbb9b65",
   "metadata": {},
   "outputs": [],
   "source": [
    "input_values = [1,2,3,4,5]\n",
    "squares = [1,4,9,16,25]\n",
    "plt.plot(input_values,squares,linewidth=10)"
   ]
  },
  {
   "cell_type": "code",
   "execution_count": null,
   "id": "5f17e95a",
   "metadata": {},
   "outputs": [],
   "source": [
    "plt.scatter(1,86)\n",
    "plt.show()"
   ]
  },
  {
   "cell_type": "code",
   "execution_count": null,
   "id": "351f86ea",
   "metadata": {},
   "outputs": [],
   "source": [
    "x_labels=[1,2,3,4,5]\n",
    "y_labels=[1,4,9,16,25]\n",
    "plt.scatter(x_labels,y_labels,s=50)\n",
    "plt.show()"
   ]
  },
  {
   "cell_type": "code",
   "execution_count": null,
   "id": "c88a86c8",
   "metadata": {},
   "outputs": [],
   "source": [
    "x_values = list(range(1,10))\n",
    "print(x_values)\n",
    "y_values = [x**2 for x in x_values]\n",
    "print(y_values)\n",
    "plt.scatter(x_values,y_values,c=y_values,cmap=plt.cm.Reds,s=50)\n",
    "plt.show()"
   ]
  },
  {
   "cell_type": "code",
   "execution_count": null,
   "id": "d554ca33",
   "metadata": {},
   "outputs": [],
   "source": [
    "plt.savefig('scatter18.png',bbox_inches='tight')"
   ]
  },
  {
   "cell_type": "code",
   "execution_count": null,
   "id": "c898c7cd",
   "metadata": {},
   "outputs": [],
   "source": [
    "from sklearn.model_selection import train_test_split\n",
    "# df is features and labels are the targets \n",
    "# Split by putting 25% in the testing set\n",
    "X_train, X_test, y_train, y_test = train_test_split(df, labels, \n",
    "                                                   test_size = 0.25,\n",
    "                                                    random_state=42)"
   ]
  }
 ],
 "metadata": {
  "kernelspec": {
   "display_name": "Python 3",
   "language": "python",
   "name": "python3"
  },
  "language_info": {
   "codemirror_mode": {
    "name": "ipython",
    "version": 3
   },
   "file_extension": ".py",
   "mimetype": "text/x-python",
   "name": "python",
   "nbconvert_exporter": "python",
   "pygments_lexer": "ipython3",
   "version": "3.8.8"
  }
 },
 "nbformat": 4,
 "nbformat_minor": 5
}
