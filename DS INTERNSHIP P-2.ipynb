{
 "cells": [
  {
   "cell_type": "code",
   "execution_count": null,
   "id": "d5c40c13",
   "metadata": {},
   "outputs": [],
   "source": [
    "pip install chatterbot\n",
    "pip install chatterbot_corpus"
   ]
  },
  {
   "cell_type": "code",
   "execution_count": null,
   "id": "56d9b188",
   "metadata": {},
   "outputs": [],
   "source": [
    "!pip install chatterbot\n",
    "!pip install chatterbot_corpus"
   ]
  },
  {
   "cell_type": "code",
   "execution_count": null,
   "id": "41f2ba98",
   "metadata": {},
   "outputs": [],
   "source": [
    "# Importing chatterbot\n",
    "from chatterbot import ChatBot"
   ]
  },
  {
   "cell_type": "code",
   "execution_count": null,
   "id": "4b8788b7",
   "metadata": {},
   "outputs": [],
   "source": [
    "# Create object of ChatBot class\n",
    "bot = ChatBot('Buddy')"
   ]
  },
  {
   "cell_type": "code",
   "execution_count": null,
   "id": "51ce381f",
   "metadata": {},
   "outputs": [],
   "source": [
    "[nltk_data] Downloading package averaged_perceptron_tagger to\n",
    "[nltk_data]     /root/nltk_data...\n",
    "[nltk_data]   Unzipping taggers/averaged_perceptron_tagger.zip.\n",
    "[nltk_data] Downloading package stopwords to /root/nltk_data...\n",
    "[nltk_data]   Unzipping corpora/stopwords.zip.\n",
    "[nltk_data] Downloading package wordnet to /root/nltk_data...\n",
    "[nltk_data]   Unzipping corpora/wordnet.zip."
   ]
  },
  {
   "cell_type": "code",
   "execution_count": null,
   "id": "1e8d5100",
   "metadata": {},
   "outputs": [],
   "source": [
    "# Create object of ChatBot class with Storage Adapter\n",
    "bot = ChatBot(\n",
    "    'Buddy',\n",
    "    storage_adapter='chatterbot.storage.SQLStorageAdapter',\n",
    "    database_uri='sqlite:///database.sqlite3'\n",
    ")"
   ]
  },
  {
   "cell_type": "code",
   "execution_count": null,
   "id": "59280d46",
   "metadata": {},
   "outputs": [],
   "source": [
    "# Inport ListTrainer\n",
    "from chatterbot.trainers import ListTrainer\n",
    "\n",
    "trainer = ListTrainer(bot)\n",
    "\n",
    "trainer.train([\n",
    "'Hi',\n",
    "'Hello',\n",
    "'I need your assistance regarding my order',\n",
    "'Please, Provide me with your order id',\n",
    "'I have a complaint.',\n",
    "'Please elaborate, your concern',\n",
    "'How long it will take to receive an order ?',\n",
    "'An order takes 3-5 Business days to get delivered.',\n",
    "'Okay Thanks',\n",
    "'No Problem! Have a Good Day!'\n",
    "])\n",
    "List Trainer: [####################] 100%"
   ]
  },
  {
   "cell_type": "code",
   "execution_count": null,
   "id": "570bda68",
   "metadata": {},
   "outputs": [],
   "source": [
    "# Get a response to the input text 'I would like to book a flight.'\n",
    "response = bot.get_response('I have a complaint.')\n",
    "\n",
    "print(\"Bot Response:\", response)\n",
    "Bot Response: Please elaborate, your concern"
   ]
  },
  {
   "cell_type": "code",
   "execution_count": null,
   "id": "53e7f269",
   "metadata": {},
   "outputs": [],
   "source": [
    "name=input(\"Enter Your Name: \")\n",
    "print(\"Welcome to the Bot Service! Let me know how can I help you?\")\n",
    "while True:\n",
    "    request=input(name+':')\n",
    "    if request=='Bye' or request =='bye':\n",
    "        print('Bot: Bye')\n",
    "        break\n",
    "    else:\n",
    "        response=bot.get_response(request)\n",
    "        print('Bot:',response)\n",
    "Enter Your Name: Avinash\n",
    "Welcome to the Bot Service! Let me know how can I help you?\n",
    "Avinash:I need your assistance regarding my order\n",
    "Bot: Please, Provide me with your order id\n",
    "Avinash:12345\n",
    "Bot: No Problem! Have a Good Day!\n",
    "Avinash:Bye\n",
    "Bot: Bye"
   ]
  },
  {
   "cell_type": "code",
   "execution_count": null,
   "id": "f0cfde47",
   "metadata": {},
   "outputs": [],
   "source": []
  }
 ],
 "metadata": {
  "kernelspec": {
   "display_name": "Python 3",
   "language": "python",
   "name": "python3"
  },
  "language_info": {
   "codemirror_mode": {
    "name": "ipython",
    "version": 3
   },
   "file_extension": ".py",
   "mimetype": "text/x-python",
   "name": "python",
   "nbconvert_exporter": "python",
   "pygments_lexer": "ipython3",
   "version": "3.8.8"
  }
 },
 "nbformat": 4,
 "nbformat_minor": 5
}

-----------------------------------------------------------------------------------------------------
{
  "id": "03d4b264-047f-4960-8ece-e3de8b084555",
  "name": "Order Pizza",
  "auto": true,
  "condition": "",
  "conditionalFollowupEvents": [],
  "conditionalResponses": [],
  "context": [],
  "contexts": [],
  "endInteraction": false,
  "events": [],
  "fallbackIntent": false,
  "liveAgentHandoff": false,
  "parentId": null,
  "followUpIntents": [],
  "priority": 500000,
  "responses": [
    {
      "action": "",
      "affectedContexts": [],
      "parameters": [
        {
          "noInputPromptMessages": [],
          "noMatchPromptMessages": [],
          "promptMessages": [],
          "defaultValue": "",
          "name": "phone-number",
          "dataType": "@sys.phone-number",
          "isList": false,
          "required": true,
          "prompts": [
            "May I know your contact number??"
          ],
          "value": "$phone-number",
          "outputDialogContexts": []
        },
        {
          "noInputPromptMessages": [],
          "noMatchPromptMessages": [],
          "promptMessages": [],
          "defaultValue": "",
          "name": "email",
          "dataType": "@sys.email",
          "isList": false,
          "required": true,
          "prompts": [],
          "value": "$email",
          "outputDialogContexts": []
        },
        {
          "noInputPromptMessages": [],
          "noMatchPromptMessages": [],
          "promptMessages": [],
          "defaultValue": "",
          "name": "time-period",
          "dataType": "@sys.time-period",
          "isList": false,
          "required": true,
          "prompts": [],
          "value": "$time-period",
          "outputDialogContexts": []
        },
        {
          "noInputPromptMessages": [],
          "noMatchPromptMessages": [],
          "promptMessages": [],
          "defaultValue": "",
          "name": "address",
          "dataType": "@sys.address",
          "isList": false,
          "required": true,
          "prompts": [],
          "value": "$address",
          "outputDialogContexts": []
        },
        {
          "noInputPromptMessages": [],
          "noMatchPromptMessages": [],
          "promptMessages": [],
          "defaultValue": "",
          "name": "toppings",
          "dataType": "@toppings",
          "isList": false,
          "required": true,
          "prompts": [
            "Which toppings would you like (onions, tomatoes, salt, extra cheese,"
          ],
          "value": "$toppings",
          "outputDialogContexts": []
        },
        {
          "noInputPromptMessages": [],
          "noMatchPromptMessages": [],
          "promptMessages": [],
          "defaultValue": "",
          "name": "size",
          "dataType": "@size",
          "isList": false,
          "required": true,
          "prompts": [
            "Please select the size (small, medium, big)"
          ],
          "value": "$size",
          "outputDialogContexts": []
        }
      ],
      "defaultResponsePlatforms": {},
      "messages": [
        {
          "type": "message",
          "condition": "",
          "speech": [
            "Order completed  for $size size with $toppings toppings for contact number $phone-number,email-id $email on duration of by $time-period at $address!!"
          ]
        }
      ],
      "resetContexts": false
    }
  ],
  "rootParentId": null,
  "templates": [],
  "userSays": [
    {
      "isTemplate": false,
      "data": [
        {
          "text": "Order me a pizza with ",
          "userDefined": false
        },
        {
          "text": "size",
          "userDefined": true,
          "alias": "size",
          "meta": "@size"
        }
      ],
      "count": 0,
      "id": "adde4beb-d99e-46ba-8f26-d89b2baa6e7c",
      "updated": null
    },
    {
      "isTemplate": false,
      "data": [
        {
          "text": "Order me a pizza now with ",
          "userDefined": false
        },
        {
          "text": "anchioves",
          "userDefined": true,
          "alias": "toppings",
          "meta": "@toppings"
        },
        {
          "text": " toppings",
          "userDefined": false
        }
      ],
      "count": 0,
      "id": "e49d78c5-71cb-47df-a4a2-2829e45ded5d",
      "updated": null
    },
    {
      "isTemplate": false,
      "data": [
        {
          "text": "Order me a pizza ",
          "userDefined": false
        },
        {
          "text": "here",
          "userDefined": true,
          "alias": "address",
          "meta": "@sys.address"
        }
      ],
      "count": 0,
      "id": "4b728df6-d4ec-4440-8200-501df4493e5b",
      "updated": null
    },
    {
      "isTemplate": false,
      "data": [
        {
          "text": "Order me a pizza ",
          "userDefined": false
        },
        {
          "text": "now",
          "userDefined": true,
          "alias": "time-period",
          "meta": "@sys.time-period"
        }
      ],
      "count": 0,
      "id": "815a32d0-7a82-4a67-bd07-41d518779d17",
      "updated": null
    },
    {
      "isTemplate": false,
      "data": [
        {
          "text": "Order me a pizza in the E-Mail ID of ",
          "userDefined": false
        },
        {
          "text": "demo@gmail.com",
          "userDefined": true,
          "alias": "email",
          "meta": "@sys.email"
        }
      ],
      "count": 0,
      "id": "97d2bca1-065d-423a-8439-f93191816938",
      "updated": null
    },
    {
      "isTemplate": false,
      "data": [
        {
          "text": "Order me a pizza on ",
          "userDefined": false
        },
        {
          "text": "6574218609",
          "userDefined": true,
          "alias": "phone-number",
          "meta": "@sys.phone-number"
        }
      ],
      "count": 0,
      "id": "512bf55a-39cc-4305-b05d-0edc32b053a7",
      "updated": null
    },
    {
      "isTemplate": false,
      "data": [
        {
          "text": "Order me a pizza",
          "userDefined": false
        }
      ],
      "count": 0,
      "id": "2ee4a925-d381-4d8a-9bf2-e4b4411ed181",
      "updated": null
    }
  ],
  "webhookForSlotFilling": false,
  "webhookUsed": false
}
Size.csv
------------------
"small","small"
"medium","medium"
"big","big"
-------------------
toppings.csv
----------------------------------
"onions","onions"
"green peppers","green peppers"
"extra cheese","extra cheese"
"tomatoes","tomatoes"
"mushroom","mushroom"
"salt","salt"
----------------------------------
{
  "id": "5f7e5134-801d-4063-ac36-053a77ab8795",
  "name": "Order Pizza",
  "auto": true,
  "condition": "",
  "conditionalFollowupEvents": [],
  "conditionalResponses": [],
  "context": [],
  "contexts": [],
  "endInteraction": false,
  "events": [],
  "fallbackIntent": false,
  "liveAgentHandoff": false,
  "parentId": null,
  "followUpIntents": [],
  "priority": 500000,
  "responses": [
    {
      "action": "",
      "affectedContexts": [],
      "parameters": [
        {
          "noInputPromptMessages": [],
          "noMatchPromptMessages": [],
          "promptMessages": [],
          "defaultValue": "",
          "name": "phone-number",
          "dataType": "@sys.phone-number",
          "isList": false,
          "required": true,
          "prompts": [
            "Would I like to contact phone number?"
          ],
          "value": "$phone-number",
          "outputDialogContexts": []
        },
        {
          "noInputPromptMessages": [],
          "noMatchPromptMessages": [],
          "promptMessages": [],
          "defaultValue": "",
          "name": "email",
          "dataType": "@sys.email",
          "isList": false,
          "required": true,
          "prompts": [],
          "value": "$email",
          "outputDialogContexts": []
        },
        {
          "noInputPromptMessages": [],
          "noMatchPromptMessages": [],
          "promptMessages": [],
          "defaultValue": "",
          "name": "time-period",
          "dataType": "@sys.time-period",
          "isList": false,
          "required": true,
          "prompts": [],
          "value": "$time-period",
          "outputDialogContexts": []
        },
        {
          "noInputPromptMessages": [],
          "noMatchPromptMessages": [],
          "promptMessages": [],
          "defaultValue": "",
          "name": "address",
          "dataType": "@sys.address",
          "isList": false,
          "required": true,
          "prompts": [],
          "value": "$address",
          "outputDialogContexts": []
        },
        {
          "noInputPromptMessages": [],
          "noMatchPromptMessages": [],
          "promptMessages": [],
          "defaultValue": "",
          "name": "toppings",
          "dataType": "@toppings",
          "isList": false,
          "required": true,
          "prompts": [
            "Which toppings would you try? (onions, green peppers, extra cheese, tomatoes, broccolli, anchioves)"
          ],
          "value": "$toppings",
          "outputDialogContexts": []
        },
        {
          "noInputPromptMessages": [],
          "noMatchPromptMessages": [],
          "promptMessages": [],
          "defaultValue": "",
          "name": "size",
          "dataType": "@size",
          "isList": false,
          "required": true,
          "prompts": [
            "Please select a size?(small, med, big)"
          ],
          "value": "$size",
          "outputDialogContexts": []
        }
      ],
      "defaultResponsePlatforms": {},
      "messages": [
        {
          "type": "message",
          "condition": "",
          "speech": [
            "Order successful  of $size size with $toppings toppings for contact number $phone-number, Email-ID $email by the time period $time-period at $address!!"
          ]
        }
      ],
      "resetContexts": false
    }
  ],
  "rootParentId": null,
  "templates": [],
  "userSays": [
    {
      "isTemplate": false,
      "data": [
        {
          "text": "Order me a pizza of ",
          "userDefined": false
        },
        {
          "text": "size",
          "userDefined": true,
          "alias": "size",
          "meta": "@size"
        }
      ],
      "count": 0,
      "id": "5c127bc7-da95-4821-b4d3-a9df5dfb593d",
      "updated": null
    },
    {
      "isTemplate": false,
      "data": [
        {
          "text": "Order me a pizza with ",
          "userDefined": false
        },
        {
          "text": "toppings",
          "userDefined": true,
          "alias": "toppings",
          "meta": "@toppings"
        }
      ],
      "count": 0,
      "id": "80411d1c-9b1f-4ff6-b569-833f2d05534b",
      "updated": null
    },
    {
      "isTemplate": false,
      "data": [
        {
          "text": "Order me a pizza ",
          "userDefined": false
        },
        {
          "text": "here",
          "userDefined": true,
          "alias": "address",
          "meta": "@sys.address"
        }
      ],
      "count": 0,
      "id": "1123bdf6-57c9-4157-a02d-3894375b9507",
      "updated": null
    },
    {
      "isTemplate": false,
      "data": [
        {
          "text": "Order me a pizza ",
          "userDefined": false
        },
        {
          "text": "now",
          "userDefined": true,
          "alias": "time-period",
          "meta": "@sys.time-period"
        }
      ],
      "count": 0,
      "id": "355ab15b-7f59-40fc-8196-22ad767809e6",
      "updated": null
    },
    {
      "isTemplate": false,
      "data": [
        {
          "text": "Oder me a pizza in the email-id on ",
          "userDefined": false
        },
        {
          "text": "demo@gmail.com",
          "userDefined": true,
          "alias": "email",
          "meta": "@sys.email"
        }
      ],
      "count": 0,
      "id": "d9bdda43-8df7-440a-a53f-0b61234c6317",
      "updated": null
    },
    {
      "isTemplate": false,
      "data": [
        {
          "text": "Order me a pizza on ",
          "userDefined": false
        },
        {
          "text": "7432466901",
          "userDefined": true,
          "alias": "phone-number",
          "meta": "@sys.phone-number"
        }
      ],
      "count": 0,
      "id": "df1ca632-e597-46d7-a960-9a40fc013365",
      "updated": null
    },
    {
      "isTemplate": false,
      "data": [
        {
          "text": "Order me a pizza",
          "userDefined": false
        }
      ],
      "count": 0,
      "id": "71c28d01-a683-43f2-aa3a-de55f6a5e064",
      "updated": null
    }
  ],
  "webhookForSlotFilling": false,
  "webhookUsed": false
}
---------------------------------------------------------------
Size.csv
"small","small"
"med","med"
"big","big"
-------------------------------------------
toppings.csv
"onions","onions"
"green peppers","green peppers"
"extra cheese","extra cheese"
"tomatoes","tomatoes"
"mushroom","mushroom"
"garlic","garlic"